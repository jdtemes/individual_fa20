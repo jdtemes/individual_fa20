{
 "cells": [
  {
   "cell_type": "markdown",
   "metadata": {},
   "source": [
    "# COGS 108 - Project Proposal"
   ]
  },
  {
   "cell_type": "markdown",
   "metadata": {},
   "source": [
    "# Names & GitHub ID\n",
    "\n",
    "- Name: Jesse Temes\n",
    "- GitHub Username: jdtemes"
   ]
  },
  {
   "cell_type": "markdown",
   "metadata": {},
   "source": [
    "# Research Question"
   ]
  },
  {
   "cell_type": "markdown",
   "metadata": {},
   "source": [
    "How accessible are San Diego's parks to various forms of transport?"
   ]
  },
  {
   "cell_type": "markdown",
   "metadata": {},
   "source": [
    "## Background and Prior Work"
   ]
  },
  {
   "cell_type": "markdown",
   "metadata": {},
   "source": [
    "   The greatest source of greenhouse gas emissions in San Diego county is by and large personal vehicles<sup>1</sup>. In order to reduce emissions, we can start by analyzing how accessibility (or *un*accessibility) to parks might contribute to traffic congestion. Sandag (an association of city governments within San Diego County) compiles and produces traffic count data<sup>2</sup> of high-use intersections. Caltrans does the same for local freeways and highways<sup>3</sup>. This information will be useful in developing a map of congested regions. However, these data are raw, and I have not been able to find a prior analysis on them. \n",
    "\n",
    "   The SDFoundation has done a good job identifying \"park-poor\" locations, which are regions in the city that have limited access to green spaces<sup>4</sup>. The foundation has found that park-poor neighborhoods are often low-income areas with bipoc majorities. This indicates that people living in these communities may be more likely to drive to parks, if and when they choose visit them. \n",
    "   \n",
    "References:\n",
    "- 1) https://www.sandag.org/uploads/publicationid/publicationid_4497_23917.pdf\n",
    "- 2) https://www.sandag.org/resources/demographics_and_other_data/transportation/adtv/sandiego_adt.pdf\n",
    "- 3) https://dot.ca.gov/programs/traffic-operations/census/traffic-volumes/2017/route-5-6\n",
    "- 4) https://www.sdfoundation.org/wp-content/uploads/2015/10/2010-parkforeveryone_finalsm.pdf"
   ]
  },
  {
   "cell_type": "markdown",
   "metadata": {},
   "source": [
    "# Hypothesis\n"
   ]
  },
  {
   "cell_type": "markdown",
   "metadata": {},
   "source": [
    "I believe that there is a greater incentive for San Diegans to drive to their local public spaces. I think this is the case because the city lacks the public transit infrastructure that is required for moving people from smaller neighborhoods into larger urban areas."
   ]
  },
  {
   "cell_type": "markdown",
   "metadata": {},
   "source": [
    "# Data"
   ]
  },
  {
   "cell_type": "markdown",
   "metadata": {},
   "source": [
    "My ideal dataset would have statistics on who is going to parks and when. What areas do they commute from? How often do they visit the park? How do they go to the park? I would like enough observations to get statistically significant data from each neighborhood within San Diego city. The data would likely be collected conveniently at the parks at various times and on various days. Polls by phone to ask people whether they go to the parks at all and how often, when, by what means, would also be helpful. The answers to these questions would be stored with an anonymous ID."
   ]
  },
  {
   "cell_type": "markdown",
   "metadata": {},
   "source": [
    "# Ethics & Privacy"
   ]
  },
  {
   "cell_type": "markdown",
   "metadata": {},
   "source": [
    "I will need to ensure that people are guaranteed anonymity. Software that distorts voices could be helpful, because it allows for the quick, referenceable use of audio without the problem of being able to identify the person. Not storing names in data sets will also be important to do. "
   ]
  },
  {
   "cell_type": "code",
   "execution_count": null,
   "metadata": {},
   "outputs": [],
   "source": []
  }
 ],
 "metadata": {
  "kernelspec": {
   "display_name": "Python 3",
   "language": "python",
   "name": "python3"
  },
  "language_info": {
   "codemirror_mode": {
    "name": "ipython",
    "version": 3
   },
   "file_extension": ".py",
   "mimetype": "text/x-python",
   "name": "python",
   "nbconvert_exporter": "python",
   "pygments_lexer": "ipython3",
   "version": "3.7.6"
  }
 },
 "nbformat": 4,
 "nbformat_minor": 2
}
