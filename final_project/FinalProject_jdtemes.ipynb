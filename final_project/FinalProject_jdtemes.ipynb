{
 "cells": [
  {
   "cell_type": "markdown",
   "metadata": {},
   "source": [
    "# COGS 108 - Final Project"
   ]
  },
  {
   "cell_type": "markdown",
   "metadata": {},
   "source": [
    "# Overview\n",
    "\n",
    "I did my data analysis using geographical data on San Diego parks and recreation centers. "
   ]
  },
  {
   "cell_type": "markdown",
   "metadata": {},
   "source": [
    "# Names & GitHub ID\n",
    "\n",
    "- Name: Jesse Temes\n",
    "- GitHub Username: jdtemes"
   ]
  },
  {
   "cell_type": "markdown",
   "metadata": {},
   "source": [
    "# Research Question"
   ]
  },
  {
   "cell_type": "markdown",
   "metadata": {},
   "source": [
    "Which parks are more likely to offer recreation centers?"
   ]
  },
  {
   "cell_type": "markdown",
   "metadata": {},
   "source": [
    "## Background and Prior Work"
   ]
  },
  {
   "cell_type": "markdown",
   "metadata": {},
   "source": [
    "Community cohesion relies on engagement. There is no physical, sticky glue binding us down; our adhesive is mutual familiarity and social contact. In fact, social contact theory is the idea that simply doing an activity with people of a different demographic group, is enough to open one up to greater diversity. The research into that claim has been mixed, but there is evidence that at the individual level, people from deeply divided groups are willing to form friendships with each other if they have played together in sports teams.<sup>1</sup>\n",
    "\n",
    "Recreational centers then, are an important part of our communities. At rec centers, locals of all ages get a chance to interact with each other and foster their sense of community. That is good not only in and of itself, but for the sake of public safety and the wellbeing of local kids. Perceiving local goods and resources as your own has shown to prevent mistreatment of those resources.<sup>2</sup> David Kurtz, formerly with the National Recreation and Park Association, argues that recreation centers can help turn kids away from a future of crime.<sup>3</sup>\n",
    "\n",
    "I thought that for any question regarding which communities have the most access to rec centers, which communities need more resources to fund rec centers, etc, that finding which parks were more likely to house recreation centers in the first place was a good start.\n",
    "\n",
    "Resources:\n",
    "1. https://science.sciencemag.org/content/369/6505/866.abstract?casa_token=eOapzaJDYZMAAAAA:pCHyLx7a7nmmtKvK891IjeiFYUDD6uSBLkANRNnZY1HktHyFqDhY9XXzJMRA5ThZbRgsDux8WjD3\n",
    "\n",
    "2. https://journals.sagepub.com/doi/abs/10.1177/0022242920952084\n",
    "\n",
    "3. https://www.nrpa.org/parks-recreation-magazine/2015/september/structured-recreation-programming-can-help-reduce-juvenile-crime/"
   ]
  },
  {
   "cell_type": "markdown",
   "metadata": {},
   "source": [
    "# Hypothesis\n"
   ]
  },
  {
   "cell_type": "markdown",
   "metadata": {},
   "source": [
    "I believe that parks operated locally are the most likely to have recreation centers, because I expect that cities will want to avoid any conflicts of interest with higher-level authorities."
   ]
  },
  {
   "cell_type": "markdown",
   "metadata": {},
   "source": [
    "# Data"
   ]
  },
  {
   "cell_type": "markdown",
   "metadata": {},
   "source": [
    "Dataset 1: Parks\n",
    "\n",
    "Link: https://data.sandiego.gov/datasets/park-locations/\n",
    "\n",
    "Number of observations: 2769\n",
    "\n",
    "This dataset includes geographical information that describes, as polygon objects, where on a map all the parks within San Diego county are. The dataset also includes information about whether the park is run by the state, the federal government, the county, or the city.\n",
    "\n",
    "Dataset 2: Rec\n",
    "\n",
    "Link: https://data.sandiego.gov/datasets/recreation-center-locations/\n",
    "\n",
    "Number of observations: 57\n",
    "\n",
    "This dataset includes the geographical information that describes, as point objects, where on a map all the rec centers within San Diego city are. \n",
    "\n",
    "I combined these datasets using the geopandas.sjoin() function."
   ]
  },
  {
   "cell_type": "markdown",
   "metadata": {},
   "source": [
    "# Setup\n",
    "I began by importing the following modules:"
   ]
  },
  {
   "cell_type": "code",
   "execution_count": null,
   "metadata": {},
   "outputs": [],
   "source": [
    "import pandas as pd\n",
    "import numpy as np\n",
    "from shapely.geometry import Point, Polygon\n",
    "import geopandas as gpd\n",
    "import seaborn as sns\n",
    "import matplotlib.pyplot as plt\n",
    "import descartes"
   ]
  },
  {
   "cell_type": "markdown",
   "metadata": {},
   "source": [
    "Then, I read in the data"
   ]
  },
  {
   "cell_type": "code",
   "execution_count": null,
   "metadata": {},
   "outputs": [],
   "source": [
    "parks = gpd.read_file('file:///Users/jessetemes/Downloads/parks_datasd.geojson')\n",
    "rec = gpd.read_file('file:///Users/jessetemes/Downloads/rec_centers_datasd.geojson')"
   ]
  },
  {
   "cell_type": "markdown",
   "metadata": {},
   "source": [
    "# Data Cleaning\n",
    "\n",
    "I did not find myself needing to clean my data so much as needing to parse it. I separated the \"parks\" dataset into subsets, based on the `parks[park_type]` column. "
   ]
  },
  {
   "cell_type": "code",
   "execution_count": null,
   "metadata": {},
   "outputs": [],
   "source": [
    "local_parks = parks.loc[parks['park_type']=='Local']\n",
    "state_parks = parks.loc[parks['park_type']=='State']\n",
    "open_space_parks = parks.loc[parks['park_type']=='Open Space']\n",
    "regional_parks = parks.loc[parks['park_type']=='Regional']\n",
    "national_parks = parks.loc[parks['park_type']=='National']\n",
    "historic_parks = parks.loc[parks['park_type']=='Historic']\n",
    "other_parks = parks.loc[parks['park_type']=='Other']"
   ]
  },
  {
   "cell_type": "markdown",
   "metadata": {},
   "source": [
    "# Data Analysis & Results\n",
    "\n",
    "I started out by laying a map of the `rec` dataset over a map of the `parks` dataset and all of its subsets, just to get an intuitive, visual sense of what I might find."
   ]
  },
  {
   "cell_type": "code",
   "execution_count": null,
   "metadata": {},
   "outputs": [],
   "source": [
    "px = parks.plot(color = 'r')\n",
    "rec.plot(ax=px, color = 'g', markersize = 1)\n",
    "lx=local_parks.plot(color='r')\n",
    "rec.plot(ax=lx, color='g', markersize=1)\n",
    "stx = state_parks.plot(color='r')\n",
    "rec.plot(ax=stx, color='g', markersize=1)\n",
    "osx=open_space_parks.plot(color='r')\n",
    "rec.plot(ax=osx, color='g', markersize=1)\n",
    "rx=regional_parks.plot(color='r')\n",
    "rec.plot(ax=rx, color='g', markersize=1)\n",
    "nx=national_parks.plot(color='r')\n",
    "rec.plot(ax=nx, color='g', markersize=1)\n",
    "hx=historic_parks.plot(color='r')\n",
    "rec.plot(ax=hx, color='g', markersize=1)\n",
    "ox=other_parks.plot(color='r')\n",
    "rec.plot(ax=ox, color='g', markersize=1)"
   ]
  },
  {
   "cell_type": "markdown",
   "metadata": {},
   "source": [
    "Then, I combined `rec` dataset with the `parks` dataset and all of its subsets. "
   ]
  },
  {
   "cell_type": "code",
   "execution_count": null,
   "metadata": {},
   "outputs": [],
   "source": [
    "parksnrec = gpd.sjoin(parks[['geometry']], rec[['geometry']])\n",
    "locparksnrec=gpd.sjoin(local_parks[['geometry']], rec[['geometry']])\n",
    "stparksnrec = gpd.sjoin(state_parks[['geometry']], rec[['geometry']])\n",
    "openparksnrec = gpd.sjoin(open_space_parks[['geometry']], rec[['geometry']])\n",
    "regparksnrec = gpd.sjoin(regional_parks[['geometry']], rec[['geometry']])\n",
    "histparksnrec = gpd.sjoin(historic_parks[['geometry']], rec[['geometry']])\n",
    "natparksnrec = gpd.sjoin(national_parks[['geometry']], rec[['geometry']])\n",
    "othparksnrec = gpd.sjoin(other_parks[['geometry']], rec[['geometry']])"
   ]
  },
  {
   "cell_type": "markdown",
   "metadata": {},
   "source": [
    "Finally, I created a simple calculator to determine what percent of each park type contained at least one rec center."
   ]
  },
  {
   "cell_type": "code",
   "execution_count": null,
   "metadata": {},
   "outputs": [],
   "source": [
    "def ratio_finder(gdf1, gdf2):\n",
    "    pct = (1 - (len(gdf1)-len(gdf2))/len(gdf1))*100\n",
    "    \n",
    "    return pct"
   ]
  },
  {
   "cell_type": "markdown",
   "metadata": {},
   "source": [
    "The logic behind this, was that the `sjoin` function was performing an inner-join on the `rec` and `parks` (and `parks` subsets) datasets, with respect to each of their `[geometry]` columns. In other words, it found the number of parks that overlapped with a recreation center, and therefore which parks had recreation centers"
   ]
  },
  {
   "cell_type": "markdown",
   "metadata": {},
   "source": [
    "# Ethics & Privacy"
   ]
  },
  {
   "cell_type": "markdown",
   "metadata": {},
   "source": [
    "I asked a simple question for this project. Simple questions can result in basic answers that do not elaborate much on what larger patterns exist. I think this is concerning, because if it appears that the only issue with community cohesion has to do with the location of rec centers, then anyone who is uninterested in reading more about the topic might come to simple conclusions about deep sociological problems. That can be problematic in political systems (democracies) that rely on a properly informed electorate. I had fun with this project, genuinely, but am I admitting to having come up with a problematically poor question? Perhaps."
   ]
  },
  {
   "cell_type": "markdown",
   "metadata": {},
   "source": [
    "# Conclusion and Discussion\n",
    "\n",
    "My hypothesis was incorrect. While I expected recreation centers to exist primarily at parks that were run by the most local division of government possible, it turns out that they are primarily run by a division of government that is one step higher. The park_type \"regional\" turned out to have the highest percentage of recreation centers, at roughly 16%, while only 5% of local parks were home to rec centers. Ultimately, I think that there are deeper questions to ask about the role recreation centers play in our communities. I am curious about the funding that individual rec centers receive, and whether that has an effect on local crime rates, or a correlation to the performance of nearby schools."
   ]
  }
 ],
 "metadata": {
  "kernelspec": {
   "display_name": "Python 3",
   "language": "python",
   "name": "python3"
  },
  "language_info": {
   "codemirror_mode": {
    "name": "ipython",
    "version": 3
   },
   "file_extension": ".py",
   "mimetype": "text/x-python",
   "name": "python",
   "nbconvert_exporter": "python",
   "pygments_lexer": "ipython3",
   "version": "3.7.6"
  }
 },
 "nbformat": 4,
 "nbformat_minor": 4
}
